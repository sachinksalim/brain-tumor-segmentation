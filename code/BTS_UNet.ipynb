{
  "cells": [
    {
      "cell_type": "markdown",
      "source": [
        "# EECS 504 (Computer Vision) Project\n",
        "**Brain Tumor Segmentation using 3D U-Net**\n",
        "\n",
        "Authors:\n",
        "\n",
        "1.   Shrikant Arvavasu (ashri@umich.edu)\n",
        "2.   Sachin Salim (sachinks@umich.edu)\n",
        "3.   Nowrin Mohamed (nowrin@umich.edu)"
      ],
      "metadata": {
        "id": "8PJhwwJczRel"
      }
    },
    {
      "cell_type": "markdown",
      "metadata": {
        "id": "XOh_4-Aw-AoF"
      },
      "source": [
        "# Initializing"
      ]
    },
    {
      "cell_type": "markdown",
      "metadata": {
        "id": "GdawvcsQ-DyZ"
      },
      "source": [
        "## Import Libraries"
      ]
    },
    {
      "cell_type": "code",
      "execution_count": 1,
      "metadata": {
        "id": "kH9hTgbqBohj"
      },
      "outputs": [],
      "source": [
        "###Libraries and imports\n",
        "import numpy as np\n",
        "import math\n",
        "import random\n",
        "import os\n",
        "import shutil\n",
        "import gzip\n",
        "import glob\n",
        "import gc\n",
        "import cv2 as cv\n",
        "import pandas as pd\n",
        "import matplotlib.pyplot as plt\n",
        "import tensorflow as tf\n",
        "import numpy as np\n",
        "import pandas as pd\n",
        "import tarfile\n",
        "import PIL\n",
        "import scipy.misc\n",
        "import skimage\n",
        "import nibabel as nib\n",
        "import pdb\n",
        "from matplotlib.patches import Rectangle\n",
        "import pickle\n",
        "from skimage.metrics import hausdorff_distance\n",
        "\n",
        "from PIL import Image\n",
        "from tqdm import tqdm\n",
        "from tensorflow import keras\n",
        "from keras.callbacks import EarlyStopping, ModelCheckpoint, ReduceLROnPlateau\n",
        "from keras import optimizers \n",
        "from keras import backend as K\n",
        "from sklearn.utils import class_weight\n",
        "from sklearn.model_selection import train_test_split\n",
        "from skimage.morphology import ball, disk, dilation, binary_erosion, remove_small_objects, erosion, closing, reconstruction, binary_closing\n",
        "from skimage.measure import label,regionprops, perimeter\n",
        "from skimage.morphology import binary_dilation, binary_opening\n",
        "from skimage.filters import roberts, sobel\n",
        "from skimage import measure, feature\n",
        "from skimage.segmentation import clear_border\n",
        "from skimage import data\n",
        "from skimage.io import imread\n",
        "from scipy import ndimage as ndi\n",
        "from mpl_toolkits.mplot3d.art3d import Poly3DCollection\n",
        "\n",
        "from tensorflow import keras\n",
        "from tensorflow.keras import backend as K \n",
        "from tensorflow.keras import Input, Model\n",
        "from tensorflow.keras.layers import (\n",
        "    Activation,\n",
        "    Conv3D,\n",
        "    Conv3DTranspose,\n",
        "    MaxPooling3D,\n",
        "    UpSampling3D,\n",
        ")\n",
        "from tensorflow.keras.layers import concatenate\n",
        "from tensorflow.keras.optimizers import Adam\n",
        "from tensorflow.keras.utils import to_categorical\n",
        "from tensorflow.keras import models, layers, regularizers\n",
        "from skimage.morphology import binary_closing"
      ]
    },
    {
      "cell_type": "markdown",
      "metadata": {
        "id": "9Zt2OJyO-GAx"
      },
      "source": [
        "## Mount Google Drive"
      ]
    },
    {
      "cell_type": "code",
      "execution_count": 2,
      "metadata": {
        "id": "mtPDGcJtKqF8",
        "colab": {
          "base_uri": "https://localhost:8080/"
        },
        "outputId": "6cce32fe-a440-4202-809b-fbc9f7f40a9a"
      },
      "outputs": [
        {
          "output_type": "stream",
          "name": "stdout",
          "text": [
            "Mounted at /content/drive/\n"
          ]
        }
      ],
      "source": [
        "import os\n",
        "from google.colab import drive\n",
        "from google.colab import files\n",
        "\n",
        "drive_mount_point = '/content/drive/'\n",
        "drive.mount(drive_mount_point)\n"
      ]
    },
    {
      "cell_type": "markdown",
      "metadata": {
        "id": "asTJq_ja6vht"
      },
      "source": [
        "## Global variables"
      ]
    },
    {
      "cell_type": "code",
      "execution_count": 3,
      "metadata": {
        "id": "n7sKkN556sPN"
      },
      "outputs": [],
      "source": [
        "# mention root directory here\n",
        "ROOT_DIR = f'{drive_mount_point}MyDrive/bts_data'\n",
        "\n",
        "NUM_EPOCHS = 10\n",
        "\n",
        "# count of data used\n",
        "DATA_COUNT = {'train': 285, 'validation': 66, 'test': 191}\n",
        "\n",
        "# key of the model (1, 2, 3)\n",
        "MODEL_KEY = 'model_1'\n",
        "\n",
        "INPUT_SIZE = 64 #N\n",
        "\n",
        "ENCODING_BLOCKS = 3 #M\n",
        "\n",
        "NO_OF_FILTERS = 64 #F\n",
        "\n",
        "\n",
        "'''N: shape of input image, same as shape of output\n",
        "    M: number of encoding/decoding blocks\n",
        "    F: number of filters in the initial block'''\n",
        "\n",
        "# Parameters\n",
        "PARAMS = {'orig_dim': (240, 240, 155),\n",
        "          'final_dim': (INPUT_SIZE, INPUT_SIZE, INPUT_SIZE),\n",
        "          'batch_size': 5,\n",
        "          'n_classes': 4,\n",
        "          'n_channels': 4,\n",
        "          'channel_keys': ['flair', 't1', 't1ce', 't2'],\n",
        "          'affine': np.array([[ -1.,  -0.,  -0.,   0.],\n",
        "                              [ -0.,  -1.,  -0., 239.],\n",
        "                              [  0.,   0.,   1.,   0.],\n",
        "                              [  0.,   0.,   0.,   1.]]),\n",
        "          'label_key': 'seg',\n",
        "          'shuffle': True}\n",
        "\n",
        "# set this flag to False if running this codebase for the first time\n",
        "# and set it to True if data preparing is completed successfully for entire data\n",
        "IS_DATA_PREPARED = True\n",
        "\n",
        "LEARNING_RATE = 1e-4\n",
        "\n",
        "# Set to True if training models is complete\n",
        "IS_TRAINING_DONE = True\n",
        "\n",
        "# Set to True if training should resume from last checkpoint\n",
        "CONTINUE_TRAINING = False"
      ]
    },
    {
      "cell_type": "code",
      "source": [
        "gpu_info = !nvidia-smi\n",
        "gpu_info = '\\n'.join(gpu_info)\n",
        "if gpu_info.find('failed') >= 0:\n",
        "  print('Not connected to a GPU')\n",
        "else:\n",
        "  print(gpu_info)"
      ],
      "metadata": {
        "colab": {
          "base_uri": "https://localhost:8080/"
        },
        "id": "pbq49DAwFYph",
        "outputId": "43555e78-e26b-432d-822c-090234b7bbf7"
      },
      "execution_count": 4,
      "outputs": [
        {
          "output_type": "stream",
          "name": "stdout",
          "text": [
            "Sat Dec 17 02:27:03 2022       \n",
            "+-----------------------------------------------------------------------------+\n",
            "| NVIDIA-SMI 460.32.03    Driver Version: 460.32.03    CUDA Version: 11.2     |\n",
            "|-------------------------------+----------------------+----------------------+\n",
            "| GPU  Name        Persistence-M| Bus-Id        Disp.A | Volatile Uncorr. ECC |\n",
            "| Fan  Temp  Perf  Pwr:Usage/Cap|         Memory-Usage | GPU-Util  Compute M. |\n",
            "|                               |                      |               MIG M. |\n",
            "|===============================+======================+======================|\n",
            "|   0  Tesla T4            Off  | 00000000:00:04.0 Off |                    0 |\n",
            "| N/A   52C    P0    27W /  70W |      0MiB / 15109MiB |      0%      Default |\n",
            "|                               |                      |                  N/A |\n",
            "+-------------------------------+----------------------+----------------------+\n",
            "                                                                               \n",
            "+-----------------------------------------------------------------------------+\n",
            "| Processes:                                                                  |\n",
            "|  GPU   GI   CI        PID   Type   Process name                  GPU Memory |\n",
            "|        ID   ID                                                   Usage      |\n",
            "|=============================================================================|\n",
            "|  No running processes found                                                 |\n",
            "+-----------------------------------------------------------------------------+\n"
          ]
        }
      ]
    },
    {
      "cell_type": "markdown",
      "metadata": {
        "id": "bCU7SCWy4q1W"
      },
      "source": [
        "# Data Preprocessing"
      ]
    },
    {
      "cell_type": "markdown",
      "metadata": {
        "id": "Xc-g-kreFI4h"
      },
      "source": [
        "## Prepare data"
      ]
    },
    {
      "cell_type": "code",
      "execution_count": 5,
      "metadata": {
        "id": "MGkQp_Fc4KtF"
      },
      "outputs": [],
      "source": [
        "def make_dir(dir_path):\n",
        "  if not os.path.isdir(dir_path):\n",
        "    os.mkdir(dir_path)\n",
        "\n",
        "def create_folders():\n",
        "  make_dir(f'{ROOT_DIR}')\n",
        "  make_dir(f'{ROOT_DIR}/data')\n",
        "\n",
        "def create_id_file():\n",
        "  file_path = f'{ROOT_DIR}/data'\n",
        "  brats_data = os.listdir(file_path)\n",
        "  newFile = open(f'{ROOT_DIR}/ids.txt',\"w\")\n",
        "  for file in sorted(brats_data):\n",
        "      fileNames = file.split(\"_\")\n",
        "      currentFileName = fileNames[-1]\n",
        "      newFile.write(currentFileName + \"\\n\")\n",
        "      \n",
        "def unzip_files():\n",
        "  id_file_handler = open(f'{ROOT_DIR}/ids.txt', 'r')\n",
        "\n",
        "  for id in tqdm(id_file_handler):\n",
        "    # strip new line character\n",
        "    id = id.rstrip()\n",
        "\n",
        "    # to find all zipped files\n",
        "    file_path_regex = f'{ROOT_DIR}/data/BraTS2021_{id}/*.nii.gz'\n",
        "    \n",
        "    # unzip files\n",
        "    for file_name in glob.glob(file_path_regex):\n",
        "        os.system('gunzip ' + file_name)\n",
        "\n",
        "\n",
        "def prepare_data():\n",
        "  '''\n",
        "  1. create folders\n",
        "  2. unzip data\n",
        "  3. Creating a text file which will contain list of all data set numbers in sorted order like 0001 etc. \n",
        "  '''\n",
        "  create_folders()\n",
        "  create_id_file()\n",
        "  unzip_files()"
      ]
    },
    {
      "cell_type": "markdown",
      "metadata": {
        "id": "OEJ6UmEk5j1Y"
      },
      "source": [
        "## Data Generator Class"
      ]
    },
    {
      "cell_type": "code",
      "execution_count": 6,
      "metadata": {
        "id": "Hpqoe2x6HRlf"
      },
      "outputs": [],
      "source": [
        "class DataGenerator(keras.utils.Sequence):\n",
        "    'Generates data for Keras'\n",
        "    def __init__(self, list_IDs, batch_size, orig_dim, final_dim, n_channels,\n",
        "                 n_classes, channel_keys, affine, label_key, shuffle=True):\n",
        "        'Initialization'\n",
        "        self.root_folder = ROOT_DIR\n",
        "        self.orig_dim = orig_dim\n",
        "        self.final_dim = final_dim\n",
        "        self.batch_size = batch_size\n",
        "        self.list_IDs = list_IDs\n",
        "        self.n_channels = n_channels\n",
        "        self.n_classes = n_classes\n",
        "        self.channel_keys = channel_keys\n",
        "        self.label_key = label_key\n",
        "        self.shuffle = shuffle\n",
        "        self.on_epoch_end()\n",
        "\n",
        "    def __len__(self):\n",
        "        'Denotes the number of batches per epoch'\n",
        "        return int(np.floor(len(self.list_IDs) / self.batch_size))\n",
        "\n",
        "    def __getitem__(self, index):\n",
        "        'Generate one batch of data'\n",
        "        # Generate indexes of the batch\n",
        "        indexes = self.indexes[index*self.batch_size:(index+1)*self.batch_size]\n",
        "\n",
        "        # Find list of IDs\n",
        "        list_IDs_temp = [self.list_IDs[k] for k in indexes]\n",
        "\n",
        "        # Generate data\n",
        "        X, y = self.__data_generation(list_IDs_temp)\n",
        "\n",
        "        return X, y\n",
        "\n",
        "    def on_epoch_end(self):\n",
        "        'Updates indexes after each epoch'\n",
        "        self.indexes = np.arange(len(self.list_IDs))\n",
        "        if self.shuffle == True:\n",
        "            np.random.shuffle(self.indexes)\n",
        "\n",
        "    def crop_region(self, images, mask, margin=32):\n",
        "        \n",
        "        h, w, d = mask.shape\n",
        "        \n",
        "        foreground = np.where(mask != 0)\n",
        "        x_min, x_max = np.min(foreground[0]), np.max(foreground[0])\n",
        "        y_min, y_max = np.min(foreground[1]), np.max(foreground[1])\n",
        "        z_min, z_max = np.min(foreground[2]), np.max(foreground[2])\n",
        "\n",
        "        paddings = []\n",
        "\n",
        "        if x_min - margin >= 0:\n",
        "            x_min = x_min - margin\n",
        "        else:\n",
        "            paddings.append(((margin - x_min, 0), (0, 0), (0, 0)))\n",
        "            x_min = 0\n",
        "        if x_max + margin <= h:\n",
        "            x_max = x_max + margin\n",
        "        else:\n",
        "            paddings.append(((0, margin + x_max - h), (0, 0), (0, 0)))\n",
        "            x_max = -1\n",
        "        if y_min - margin >= 0:\n",
        "            y_min = y_min - margin\n",
        "        else:\n",
        "            paddings.append(((0, 0), (margin - y_min, 0), (0, 0)))\n",
        "            y_min = 0\n",
        "        if y_max + margin <= w:\n",
        "            y_max = y_max + margin\n",
        "        else:\n",
        "            paddings.append(((0, 0), (0, margin + y_max - w), (0, 0)))\n",
        "            y_max = -1\n",
        "        if z_min - margin >= 0:\n",
        "            z_min = z_min - margin\n",
        "        else:\n",
        "            paddings.append(((0, 0), (0, 0), (margin - z_min, 0)))\n",
        "            z_min = 0\n",
        "        if z_max + margin <= d:\n",
        "            z_max = z_max + margin\n",
        "        else:\n",
        "            paddings.append(((0, 0), (0, 0), (0, margin + z_max - d)))\n",
        "            z_max = -1\n",
        "\n",
        "        for padding in paddings:\n",
        "            images = np.array([np.pad(image, padding, mode='minimum') for image in images])\n",
        "            mask = np.pad(mask, padding, mode='minimum')\n",
        "\n",
        "        new_image = images[:,x_min:x_max, y_min:y_max, z_min:z_max]\n",
        "        new_mask = mask[x_min:x_max, y_min:y_max, z_min:z_max]\n",
        "\n",
        "        return new_image, new_mask\n",
        "\n",
        "    def load_image_mask(self, ID):\n",
        "\n",
        "        images = np.array([load_data(ID, key) for key in self.channel_keys])\n",
        "        mask = np.array(load_data(ID, self.label_key))\n",
        "\n",
        "        images, mask = self.crop_region(images, mask)\n",
        "        mask[mask==4] = 3\n",
        "        \n",
        "        paddings = []\n",
        "\n",
        "        if mask.shape[0]<=self.final_dim[0]:\n",
        "            paddings.append([(0,self.final_dim[0] - mask.shape[0]+1), (0,0), (0,0)])\n",
        "            x_max = -1\n",
        "            x_min = 0\n",
        "        \n",
        "        else:\n",
        "            x_max = mask.shape[0] - self.final_dim[0]\n",
        "            x_min = np.random.randint(low=0, high=x_max)\n",
        "            x_max = x_min + self.final_dim[0]\n",
        "\n",
        "        \n",
        "        if mask.shape[1]<=self.final_dim[1]:\n",
        "            paddings.append([(0,0), (0,self.final_dim[1] - mask.shape[1]+1), (0,0)])\n",
        "            y_max = -1\n",
        "            y_min = 0\n",
        "        \n",
        "        else:\n",
        "            y_max = mask.shape[1] - self.final_dim[1]\n",
        "            y_min = np.random.randint(low=0, high=y_max)\n",
        "            y_max = y_min + self.final_dim[1]\n",
        "        \n",
        "        if mask.shape[2]<=self.final_dim[2]:\n",
        "            paddings.append([(0,0), (0,0), (0,self.final_dim[2] - mask.shape[2]+1)])\n",
        "            z_max = -1\n",
        "            z_min = 0\n",
        "        \n",
        "        else:\n",
        "            z_max = mask.shape[2] - self.final_dim[2]\n",
        "            z_min = np.random.randint(low=0, high=z_max)\n",
        "            z_max = z_min + self.final_dim[2]\n",
        "\n",
        "        for padding in paddings:\n",
        "            images = np.array([np.pad(image, padding, mode='minimum') for image in images])\n",
        "            mask = np.pad(mask, padding, mode='minimum')\n",
        "            \n",
        "\n",
        "        images = images[:,x_min:x_max,y_min:y_max, z_min:z_max]\n",
        "        mask = mask[x_min:x_max,y_min:y_max, z_min:z_max]\n",
        "        \n",
        "        images = np.moveaxis(images, 0, -1)\n",
        "        # mask = np.expand_dims(mask, axis=-1)\n",
        "        \n",
        "        return images, mask\n",
        "\n",
        "    def __data_generation(self, list_IDs_temp):\n",
        "        'Generates data containing batch_size samples' # X : (n_samples, *final_dim, n_channels)\n",
        "        # Initialization\n",
        "        X = np.empty((self.batch_size, *self.final_dim, self.n_channels))\n",
        "        y = np.empty((self.batch_size, *self.final_dim), dtype=int)\n",
        "\n",
        "        # Generate data\n",
        "        for i, ID in enumerate(list_IDs_temp):            \n",
        "            # Store sample\n",
        "            X[i,], y[i,] = self.load_image_mask(ID)\n",
        "\n",
        "            # # Store class\n",
        "            # y[i,] = self.load_y(ID)\n",
        "        return X, keras.utils.to_categorical(y, num_classes=self.n_classes)"
      ]
    },
    {
      "cell_type": "markdown",
      "metadata": {
        "id": "-t-s92tn5mkA"
      },
      "source": [
        "## Loading data"
      ]
    },
    {
      "cell_type": "code",
      "execution_count": 7,
      "metadata": {
        "id": "PqaagChC5rKe"
      },
      "outputs": [],
      "source": [
        "def load_data(ID, key):\n",
        "    # load nifti file\n",
        "    file_path = f'{ROOT_DIR}/data/BraTS2021_{ID}/BraTS2021_{ID}_{key}.nii'\n",
        "    nifti_file   = nib.load(file_path)\n",
        "\n",
        "    # extracting data & converting to numpy file\n",
        "    data_obj = np.asarray(nifti_file.dataobj)\n",
        "\n",
        "    return data_obj\n",
        "    \n",
        "def create_data_generators(verbose = 0):\n",
        "  '''\n",
        "  returns: training_generator, validation_generator, testing_generator\n",
        "  These can be used as `x` input to `model.fit(x=)`\n",
        "  '''\n",
        "  train_count = DATA_COUNT['train']\n",
        "  validation_count = DATA_COUNT['validation']\n",
        "  test_count = DATA_COUNT['test']\n",
        "\n",
        "  # Dataset ids\n",
        "  tv_ids = open(f'{ROOT_DIR}/meta_data/train_ids.txt', 'r').read().split()[:train_count+validation_count]\n",
        "\n",
        "  # Randomly permute to randomize train and validation\n",
        "  np.random.seed(0)\n",
        "  tv_ids = np.random.permutation(tv_ids)\n",
        "\n",
        "  train_ids = tv_ids[:train_count]\n",
        "  validation_ids = tv_ids[train_count:]\n",
        "\n",
        "  test_ids = open(f'{ROOT_DIR}/meta_data/test_ids.txt', 'r').read().split()[:test_count]\n",
        "\n",
        "  if verbose:\n",
        "    print(f'Training cases: {len(train_ids)}')\n",
        "    print(f'Validation cases: {len(validation_ids)}')\n",
        "    print(f'Testing cases: {len(test_ids)}')\n",
        "\n",
        "  # Generators\n",
        "  training_generator = DataGenerator(train_ids, **PARAMS)\n",
        "  validation_generator = DataGenerator(validation_ids, **PARAMS)\n",
        "  testing_generator = DataGenerator(test_ids, **PARAMS)\n",
        "\n",
        "  return training_generator, validation_generator, testing_generator"
      ]
    },
    {
      "cell_type": "markdown",
      "metadata": {
        "id": "KxzqfbFGCSVn"
      },
      "source": [
        "# Metrics functions"
      ]
    },
    {
      "cell_type": "markdown",
      "metadata": {
        "id": "Ruwp2KMY6NDj"
      },
      "source": [
        "## Dice coefficient and loss"
      ]
    },
    {
      "cell_type": "code",
      "execution_count": 8,
      "metadata": {
        "id": "V8V6LrOpBwms"
      },
      "outputs": [],
      "source": [
        "# TODO: implement more scoring rules such as 95% Hausdorff distance\n",
        "def dice_coef(y_true, y_pred, smooth=1e-6, reduce=True):\n",
        "    # TODO (done): try with equal weights for foreground voxels so that ED also has good score\n",
        "    y_true_f = K.reshape(y_true, (-1, y_pred.shape[-1]))\n",
        "    y_pred_f = K.reshape(y_pred, (-1, y_pred.shape[-1]))\n",
        "    intersection = K.sum(y_true_f * y_pred_f, axis=0)\n",
        "    dice =  (2. * intersection + smooth) / (K.sum(y_true_f + y_pred_f, axis=0) + smooth)\n",
        "\n",
        "    if reduce is True:\n",
        "        # class_weights = 1/(1+K.sum(y_true, axis=[0,1,2,3]))\n",
        "        # class_weights /= K.sum(class_weights)\n",
        "        class_weights = tf.convert_to_tensor([0.1, 0.3, 0.3, 0.3], dtype=tf.float32)\n",
        "        return K.sum(dice * class_weights)\n",
        "    else:\n",
        "        return dice\n",
        "    \n",
        "def dice_loss(y_true, y_pred):\n",
        "    return 1-dice_coef(y_true, y_pred)\n",
        "\n",
        "def dice_coef_direct(y_true, y_pred, smooth=1e-6):\n",
        "    y_true_f = K.flatten(y_true)\n",
        "    y_pred_f = K.flatten(y_pred)\n",
        "    intersection = K.sum(y_true_f * y_pred_f)\n",
        "    return (2. * intersection + smooth) / (K.sum(y_true_f) + K.sum(y_pred_f) + smooth)"
      ]
    },
    {
      "cell_type": "markdown",
      "metadata": {
        "id": "a_3CUy2U6IUI"
      },
      "source": [
        "## Plotting functions"
      ]
    },
    {
      "cell_type": "code",
      "execution_count": 9,
      "metadata": {
        "id": "7vuaxP7e6Gh1"
      },
      "outputs": [],
      "source": [
        "# Loss vs Epoch\n",
        "def Loss_Graph(history):\n",
        "    plt.plot(history.history['loss'])\n",
        "    plt.plot(history.history['val_loss'])\n",
        "    plt.title('Model 1')\n",
        "    plt.ylabel('Dice Loss')\n",
        "    plt.xlabel('Epoch')\n",
        "    plt.ylim([0, 1])\n",
        "    plt.legend(['Train', 'Validation'], loc='upper left')\n",
        "    plt.subplots_adjust(top=1.00, bottom=0.0, left=0.0, right=0.95, hspace=0.25,\n",
        "                        wspace=0.35)\n",
        "    plt.show()"
      ]
    },
    {
      "cell_type": "markdown",
      "source": [
        "# Model"
      ],
      "metadata": {
        "id": "siVSjH93WAKK"
      }
    },
    {
      "cell_type": "markdown",
      "metadata": {
        "id": "uaEyPrQDiEty"
      },
      "source": [
        "## 3-D UNet"
      ]
    },
    {
      "cell_type": "code",
      "execution_count": 20,
      "metadata": {
        "id": "tiwI7tCYh3Ka"
      },
      "outputs": [],
      "source": [
        "from tensorflow.keras.layers import (\n",
        "    Activation,\n",
        "    Conv3D,\n",
        "    Conv3DTranspose,\n",
        "    MaxPooling3D,\n",
        "    UpSampling3D,\n",
        "    BatchNormalization,\n",
        "    Dropout\n",
        ")\n",
        "from tensorflow.keras import Input, Model\n",
        "\n",
        "def conv_block(input_mat,num_filters,kernel_size,batch_norm,channel_first=True):\n",
        "  x = Conv3D(num_filters,kernel_size=(kernel_size,kernel_size,kernel_size),strides=(1,1,1),padding='same')(input_mat)\n",
        "  if batch_norm:\n",
        "    x = BatchNormalization()(x)\n",
        "  \n",
        "  x = Activation('relu')(x)\n",
        "\n",
        "  x = Conv3D(num_filters,kernel_size=(kernel_size,kernel_size,kernel_size),strides=(1,1,1),padding='same')(x)\n",
        "  if batch_norm:\n",
        "    x = BatchNormalization()(x)\n",
        "  \n",
        "  x = Activation('relu')(x)\n",
        "  \n",
        "  return x\n",
        "\n",
        "def Unet_3d(input_shape, n_channels, n_blocks, n_classes, n_filters, dropout = 0.2, batch_norm = True):\n",
        "    '''\n",
        "    input_shape: (N, N, N) shape of input image, same as shape of output\n",
        "    n_channels: number of channels in input\n",
        "    n_blocks: number of encoding/decoding blocks\n",
        "    n_classes: number of classes in output\n",
        "    n_filters: number of filters in the initial block\n",
        "    '''\n",
        "\n",
        "    input_shape=(*input_shape, n_channels)\n",
        "    inputs = Input(input_shape, dtype=tf.float32)\n",
        "\n",
        "    filters = n_filters\n",
        "    x = inputs\n",
        "\n",
        "    # inputs to copy and concatenate\n",
        "    cpy_inps = []\n",
        "\n",
        "    for _ in range(n_blocks):\n",
        "      x = conv_block(x, filters, kernel_size=3, batch_norm=batch_norm)\n",
        "      cpy_inps.append(x)\n",
        "      x = MaxPooling3D(pool_size=(2, 2, 2), strides=2)(x)\n",
        "      x = Dropout(dropout)(x)\n",
        "      filters *= 2\n",
        "    \n",
        "    x = conv_block(x, filters,3,batch_norm)\n",
        "\n",
        "    for i in range(n_blocks):\n",
        "      filters //= 2\n",
        "      x = Conv3DTranspose(filters,(3,3,3), strides=(2,2,2) , padding= 'same')(x)\n",
        "      x = concatenate([x, cpy_inps.pop()])\n",
        "      x = conv_block(x,filters, 3, batch_norm)\n",
        "      if i <= n_blocks-1:\n",
        "        x = Dropout(dropout)(x)\n",
        "\n",
        "    outputs = Conv3D(n_classes, (1,1,1), activation='softmax')(x)\n",
        "    model = Model(inputs=inputs, outputs=outputs)\n",
        "\n",
        "    return model"
      ]
    },
    {
      "cell_type": "markdown",
      "metadata": {
        "id": "iC3Rm4_-XFwP"
      },
      "source": [
        "## Create"
      ]
    },
    {
      "cell_type": "code",
      "execution_count": 11,
      "metadata": {
        "id": "YpO2n9NfJ7O1"
      },
      "outputs": [],
      "source": [
        "def create_model(N, M, F, verbose = 0):\n",
        "  '''N: shape of input image, same as shape of output\n",
        "    M: number of encoding/decoding blocks\n",
        "    F: number of filters in the initial block'''\n",
        "  model = Unet_3d(input_shape=(N, N, N), n_channels=PARAMS['n_channels'],\n",
        "                  n_blocks=M, n_classes=PARAMS['n_classes'], n_filters=F)\n",
        "\n",
        "  model.compile(optimizer = Adam(learning_rate=LEARNING_RATE),\n",
        "                loss = dice_loss,\n",
        "                metrics=[dice_coef])\n",
        "  if verbose:\n",
        "    model.summary()\n",
        "  return model"
      ]
    },
    {
      "cell_type": "markdown",
      "metadata": {
        "id": "WSxVQrQxXIvS"
      },
      "source": [
        "## Train"
      ]
    },
    {
      "cell_type": "code",
      "execution_count": 12,
      "metadata": {
        "id": "BZZZPVgd77o_"
      },
      "outputs": [],
      "source": [
        "def train_model(model, train_data, validation_data, verbose = 0):\n",
        "  # Train model on dataset\n",
        "  callbacks = [ModelCheckpoint(f'{ROOT_DIR}/model/{MODEL_KEY}/bts_unet.h5', monitor='val_loss', save_best_only=True, save_weights_only=True, mode='min', verbose=1),\n",
        "               ReduceLROnPlateau(monitor='val_loss', factor = 0.8, patience=2, mode='min', min_lr=1e-6)]\n",
        "\n",
        "  history = model.fit(x=train_data,\n",
        "            validation_data=validation_data,\n",
        "            use_multiprocessing=True,\n",
        "            epochs=NUM_EPOCHS,\n",
        "            workers=6,\n",
        "            callbacks = callbacks,\n",
        "            verbose=verbose)\n",
        "  \n",
        "  return history"
      ]
    },
    {
      "cell_type": "markdown",
      "metadata": {
        "id": "99VYIcgo9lJz"
      },
      "source": [
        "## Evaluate"
      ]
    },
    {
      "cell_type": "code",
      "execution_count": 13,
      "metadata": {
        "id": "FKresDv08acq"
      },
      "outputs": [],
      "source": [
        "def evaluate_model(model, x, verbose = 0):\n",
        "  # Evaluating the model on the given data \n",
        "  print(\"-- Evaluating the model on the data --\")\n",
        "  model.evaluate(x=x, verbose=1, sample_weight=None, steps=None)"
      ]
    },
    {
      "cell_type": "markdown",
      "source": [
        "# Inference"
      ],
      "metadata": {
        "id": "5sfXQNftMQmH"
      }
    },
    {
      "cell_type": "code",
      "source": [
        "def color_map():\n",
        "  legend_data = [\n",
        "  [\n",
        "      2,\n",
        "      [\n",
        "          0,\n",
        "          255,\n",
        "          0\n",
        "      ],\n",
        "      \"ED\"\n",
        "  ],\n",
        "  [\n",
        "      1,\n",
        "      [\n",
        "          255,\n",
        "          255,\n",
        "          0\n",
        "      ],\n",
        "      \"NCR\"\n",
        "  ],\n",
        "  [\n",
        "      3,\n",
        "      [\n",
        "          0,\n",
        "          128,\n",
        "          128\n",
        "      ],\n",
        "      \"ET\"\n",
        "  ],\n",
        "  ]\n",
        "  handles = [\n",
        "      Rectangle((0,0),1,1, color = [v/255 for v in c]) for k,c,n in legend_data\n",
        "  ]\n",
        "\n",
        "  labels = [n for k,c,n in legend_data]\n",
        "  return handles, labels"
      ],
      "metadata": {
        "id": "YGt8GE2M9QNg"
      },
      "execution_count": 14,
      "outputs": []
    },
    {
      "cell_type": "code",
      "source": [
        "def make_images(X_data, y_data, height=100, channel=2, verbose=1):\n",
        "  h = height # height index\n",
        "  c = channel # T1Gd\n",
        "  data = X_data[:, :, h, c]\n",
        "  data = (data-np.min(data))/(np.max(data)-np.min(data))\n",
        "  segm = y_data[:, :, h]\n",
        "  if verbose:\n",
        "    print('labels of segmentation:', np.unique(segm))\n",
        "  return data, segm\n",
        "\n",
        "def plot_segment_map(X_data, y_data, height=100, channel=2, verbose=1):\n",
        "  data, segm = make_images(X_data, y_data)\n",
        "  # removing 0 label\n",
        "  segm = np.ma.masked_where(segm == 0, segm)\n",
        "\n",
        "  plt.figure(figsize = (6,6))\n",
        "  plt.axis('off')\n",
        "\n",
        "  # plot mri\n",
        "  plt.imshow(data, cmap='gray')\n",
        "  # plot segments\n",
        "  plt.imshow(segm, interpolation = 'none', vmin = 0)\n",
        "\n",
        "  # plt.legend(*color_map())\n",
        "\n",
        "  plt.show()"
      ],
      "metadata": {
        "id": "vReglWeU8pK-"
      },
      "execution_count": 15,
      "outputs": []
    },
    {
      "cell_type": "markdown",
      "source": [
        "## Stitch using sliding window"
      ],
      "metadata": {
        "id": "w9pQDBnLgP5v"
      }
    },
    {
      "cell_type": "code",
      "source": [
        "\n",
        "# stitching\n",
        "def stitching_prediction(model, image, window_length = 64, stride_factor = 2):\n",
        "    H, W, D, C = image.shape\n",
        "\n",
        "    estimated_segmentation = np.zeros_like(image, dtype=np.float32)\n",
        "    stride_X, stride_Y, stride_Z = window_length//stride_factor, window_length//stride_factor, window_length//stride_factor\n",
        "    x_max = H - window_length - 1\n",
        "    y_max = W - window_length - 1\n",
        "    z_max = D - window_length - 1\n",
        "\n",
        "    z_list = list(range(0, z_max, stride_Z))\n",
        "    z_list = [z for z in z_list if (z + window_length) < (D - 1)]\n",
        "    if z_list:\n",
        "        z_list[-1] = z_max\n",
        "\n",
        "    y_list = list(range(0, y_max, stride_Y))\n",
        "    y_list = [y for y in y_list if (y + window_length) < (W - 1)]\n",
        "    if y_list:\n",
        "        y_list[-1] = y_max\n",
        "\n",
        "    x_list = list(range(0, x_max, stride_X))\n",
        "    x_list = [x for x in x_list if (x + window_length) < (H - 1)]\n",
        "    if x_list:\n",
        "        x_list[-1] = x_max\n",
        "\n",
        "    for z in z_list:\n",
        "        for y in tqdm(y_list, total=len(y_list)):\n",
        "            for x in x_list:\n",
        "                image2 = image[x:(x+window_length), y:(y+window_length), z:(z+window_length)]\n",
        "\n",
        "                image2 = np.expand_dims(image2,axis=0)\n",
        "                pred = np.squeeze(model.predict(image2, verbose=0))\n",
        "                estimated_segmentation[x:(x+window_length), y:(y+window_length), z:(z+window_length), :] += pred\n",
        "    estimated_segmentation = np.argmax(estimated_segmentation, axis=-1)\n",
        "    return estimated_segmentation"
      ],
      "metadata": {
        "id": "vTOm0eYPqzPd"
      },
      "execution_count": 16,
      "outputs": []
    },
    {
      "cell_type": "code",
      "source": [
        "def inference(model, record_id = '00346', save_nifti = False):\n",
        "    image = np.array([load_data(record_id, key) for key in PARAMS['channel_keys']])\n",
        "    image = np.moveaxis(image, 0, -1)\n",
        "    y_true = load_data(record_id, PARAMS['label_key'])\n",
        "    y_true[y_true==4] = 3\n",
        "    onehot_mask = keras.utils.to_categorical(y_true, num_classes= PARAMS['n_classes'])\n",
        "    prediction = stitching_prediction(model, image, PARAMS['final_dim'][0])\n",
        "    onehot_pred = keras.utils.to_categorical(prediction, num_classes=PARAMS['n_classes'])\n",
        "    onehot_pred = np.moveaxis([binary_closing(onehot_pred[:,:,:,i]) for i in range(PARAMS['n_classes'])], 0, -1)\n",
        "\n",
        "    dice_score = dice_coef(onehot_mask.astype('float'), onehot_pred.astype('float'), reduce=False).numpy()\n",
        "    H_distances = [hausdorff_distance(onehot_pred[:,:,:,i], onehot_mask[:,:,:,i]) for i in range(PARAMS['n_classes'])]\n",
        "\n",
        "    y_pred = np.argmax(onehot_pred, axis=-1)\n",
        "    y_pred[y_pred==3] = 4\n",
        "    y_true[y_true==3] = 4\n",
        "\n",
        "    if save_nifti:\n",
        "      pred_nifti = nib.Nifti1Image(y_pred, PARAMS['affine'])\n",
        "      save_file_path = f'{ROOT_DIR}/predictions_2/s_{record_id}.nii'\n",
        "      nib.save(pred_nifti, save_file_path)\n",
        "\n",
        "    score = {'dice': dice_score, 'hausdorff': H_distances}\n",
        "    result = {'pred': y_pred, 'true': y_true}\n",
        "\n",
        "    return result, score"
      ],
      "metadata": {
        "id": "7mSZ-pu5Qs7U"
      },
      "execution_count": 17,
      "outputs": []
    },
    {
      "cell_type": "markdown",
      "metadata": {
        "id": "IHijRUG2_DkO"
      },
      "source": [
        "# Execute"
      ]
    },
    {
      "cell_type": "markdown",
      "metadata": {
        "id": "2WND1aH5QNAP"
      },
      "source": [
        "## Import data"
      ]
    },
    {
      "cell_type": "code",
      "execution_count": 18,
      "metadata": {
        "id": "VqV3sJWzQJwh",
        "colab": {
          "base_uri": "https://localhost:8080/"
        },
        "outputId": "4c6cb3a6-d960-4baf-a45b-ab0e772131f2"
      },
      "outputs": [
        {
          "output_type": "stream",
          "name": "stdout",
          "text": [
            "Training cases: 285\n",
            "Validation cases: 66\n",
            "Testing cases: 191\n"
          ]
        }
      ],
      "source": [
        "if not IS_DATA_PREPARED:\n",
        "  prepare_data()\n",
        "\n",
        "training_generator, validation_generator, testing_generator = create_data_generators(verbose = 1)"
      ]
    },
    {
      "cell_type": "markdown",
      "metadata": {
        "id": "NlSAT2-AyL6i"
      },
      "source": [
        "## Create model"
      ]
    },
    {
      "cell_type": "code",
      "execution_count": 21,
      "metadata": {
        "id": "45R6bsTGxAN0",
        "colab": {
          "base_uri": "https://localhost:8080/"
        },
        "outputId": "d19a6c17-967f-4787-d82e-3201e2321ca6"
      },
      "outputs": [
        {
          "output_type": "stream",
          "name": "stdout",
          "text": [
            "Model: \"model\"\n",
            "__________________________________________________________________________________________________\n",
            " Layer (type)                   Output Shape         Param #     Connected to                     \n",
            "==================================================================================================\n",
            " input_2 (InputLayer)           [(None, 64, 64, 64,  0           []                               \n",
            "                                 4)]                                                              \n",
            "                                                                                                  \n",
            " conv3d_2 (Conv3D)              (None, 64, 64, 64,   6976        ['input_2[0][0]']                \n",
            "                                64)                                                               \n",
            "                                                                                                  \n",
            " batch_normalization_2 (BatchNo  (None, 64, 64, 64,   256        ['conv3d_2[0][0]']               \n",
            " rmalization)                   64)                                                               \n",
            "                                                                                                  \n",
            " activation_2 (Activation)      (None, 64, 64, 64,   0           ['batch_normalization_2[0][0]']  \n",
            "                                64)                                                               \n",
            "                                                                                                  \n",
            " conv3d_3 (Conv3D)              (None, 64, 64, 64,   110656      ['activation_2[0][0]']           \n",
            "                                64)                                                               \n",
            "                                                                                                  \n",
            " batch_normalization_3 (BatchNo  (None, 64, 64, 64,   256        ['conv3d_3[0][0]']               \n",
            " rmalization)                   64)                                                               \n",
            "                                                                                                  \n",
            " activation_3 (Activation)      (None, 64, 64, 64,   0           ['batch_normalization_3[0][0]']  \n",
            "                                64)                                                               \n",
            "                                                                                                  \n",
            " max_pooling3d (MaxPooling3D)   (None, 32, 32, 32,   0           ['activation_3[0][0]']           \n",
            "                                64)                                                               \n",
            "                                                                                                  \n",
            " dropout (Dropout)              (None, 32, 32, 32,   0           ['max_pooling3d[0][0]']          \n",
            "                                64)                                                               \n",
            "                                                                                                  \n",
            " conv3d_4 (Conv3D)              (None, 32, 32, 32,   221312      ['dropout[0][0]']                \n",
            "                                128)                                                              \n",
            "                                                                                                  \n",
            " batch_normalization_4 (BatchNo  (None, 32, 32, 32,   512        ['conv3d_4[0][0]']               \n",
            " rmalization)                   128)                                                              \n",
            "                                                                                                  \n",
            " activation_4 (Activation)      (None, 32, 32, 32,   0           ['batch_normalization_4[0][0]']  \n",
            "                                128)                                                              \n",
            "                                                                                                  \n",
            " conv3d_5 (Conv3D)              (None, 32, 32, 32,   442496      ['activation_4[0][0]']           \n",
            "                                128)                                                              \n",
            "                                                                                                  \n",
            " batch_normalization_5 (BatchNo  (None, 32, 32, 32,   512        ['conv3d_5[0][0]']               \n",
            " rmalization)                   128)                                                              \n",
            "                                                                                                  \n",
            " activation_5 (Activation)      (None, 32, 32, 32,   0           ['batch_normalization_5[0][0]']  \n",
            "                                128)                                                              \n",
            "                                                                                                  \n",
            " max_pooling3d_1 (MaxPooling3D)  (None, 16, 16, 16,   0          ['activation_5[0][0]']           \n",
            "                                128)                                                              \n",
            "                                                                                                  \n",
            " dropout_1 (Dropout)            (None, 16, 16, 16,   0           ['max_pooling3d_1[0][0]']        \n",
            "                                128)                                                              \n",
            "                                                                                                  \n",
            " conv3d_6 (Conv3D)              (None, 16, 16, 16,   884992      ['dropout_1[0][0]']              \n",
            "                                256)                                                              \n",
            "                                                                                                  \n",
            " batch_normalization_6 (BatchNo  (None, 16, 16, 16,   1024       ['conv3d_6[0][0]']               \n",
            " rmalization)                   256)                                                              \n",
            "                                                                                                  \n",
            " activation_6 (Activation)      (None, 16, 16, 16,   0           ['batch_normalization_6[0][0]']  \n",
            "                                256)                                                              \n",
            "                                                                                                  \n",
            " conv3d_7 (Conv3D)              (None, 16, 16, 16,   1769728     ['activation_6[0][0]']           \n",
            "                                256)                                                              \n",
            "                                                                                                  \n",
            " batch_normalization_7 (BatchNo  (None, 16, 16, 16,   1024       ['conv3d_7[0][0]']               \n",
            " rmalization)                   256)                                                              \n",
            "                                                                                                  \n",
            " activation_7 (Activation)      (None, 16, 16, 16,   0           ['batch_normalization_7[0][0]']  \n",
            "                                256)                                                              \n",
            "                                                                                                  \n",
            " max_pooling3d_2 (MaxPooling3D)  (None, 8, 8, 8, 256  0          ['activation_7[0][0]']           \n",
            "                                )                                                                 \n",
            "                                                                                                  \n",
            " dropout_2 (Dropout)            (None, 8, 8, 8, 256  0           ['max_pooling3d_2[0][0]']        \n",
            "                                )                                                                 \n",
            "                                                                                                  \n",
            " conv3d_8 (Conv3D)              (None, 8, 8, 8, 512  3539456     ['dropout_2[0][0]']              \n",
            "                                )                                                                 \n",
            "                                                                                                  \n",
            " batch_normalization_8 (BatchNo  (None, 8, 8, 8, 512  2048       ['conv3d_8[0][0]']               \n",
            " rmalization)                   )                                                                 \n",
            "                                                                                                  \n",
            " activation_8 (Activation)      (None, 8, 8, 8, 512  0           ['batch_normalization_8[0][0]']  \n",
            "                                )                                                                 \n",
            "                                                                                                  \n",
            " conv3d_9 (Conv3D)              (None, 8, 8, 8, 512  7078400     ['activation_8[0][0]']           \n",
            "                                )                                                                 \n",
            "                                                                                                  \n",
            " batch_normalization_9 (BatchNo  (None, 8, 8, 8, 512  2048       ['conv3d_9[0][0]']               \n",
            " rmalization)                   )                                                                 \n",
            "                                                                                                  \n",
            " activation_9 (Activation)      (None, 8, 8, 8, 512  0           ['batch_normalization_9[0][0]']  \n",
            "                                )                                                                 \n",
            "                                                                                                  \n",
            " conv3d_transpose (Conv3DTransp  (None, 16, 16, 16,   3539200    ['activation_9[0][0]']           \n",
            " ose)                           256)                                                              \n",
            "                                                                                                  \n",
            " concatenate (Concatenate)      (None, 16, 16, 16,   0           ['conv3d_transpose[0][0]',       \n",
            "                                512)                              'activation_7[0][0]']           \n",
            "                                                                                                  \n",
            " conv3d_10 (Conv3D)             (None, 16, 16, 16,   3539200     ['concatenate[0][0]']            \n",
            "                                256)                                                              \n",
            "                                                                                                  \n",
            " batch_normalization_10 (BatchN  (None, 16, 16, 16,   1024       ['conv3d_10[0][0]']              \n",
            " ormalization)                  256)                                                              \n",
            "                                                                                                  \n",
            " activation_10 (Activation)     (None, 16, 16, 16,   0           ['batch_normalization_10[0][0]'] \n",
            "                                256)                                                              \n",
            "                                                                                                  \n",
            " conv3d_11 (Conv3D)             (None, 16, 16, 16,   1769728     ['activation_10[0][0]']          \n",
            "                                256)                                                              \n",
            "                                                                                                  \n",
            " batch_normalization_11 (BatchN  (None, 16, 16, 16,   1024       ['conv3d_11[0][0]']              \n",
            " ormalization)                  256)                                                              \n",
            "                                                                                                  \n",
            " activation_11 (Activation)     (None, 16, 16, 16,   0           ['batch_normalization_11[0][0]'] \n",
            "                                256)                                                              \n",
            "                                                                                                  \n",
            " dropout_3 (Dropout)            (None, 16, 16, 16,   0           ['activation_11[0][0]']          \n",
            "                                256)                                                              \n",
            "                                                                                                  \n",
            " conv3d_transpose_1 (Conv3DTran  (None, 32, 32, 32,   884864     ['dropout_3[0][0]']              \n",
            " spose)                         128)                                                              \n",
            "                                                                                                  \n",
            " concatenate_1 (Concatenate)    (None, 32, 32, 32,   0           ['conv3d_transpose_1[0][0]',     \n",
            "                                256)                              'activation_5[0][0]']           \n",
            "                                                                                                  \n",
            " conv3d_12 (Conv3D)             (None, 32, 32, 32,   884864      ['concatenate_1[0][0]']          \n",
            "                                128)                                                              \n",
            "                                                                                                  \n",
            " batch_normalization_12 (BatchN  (None, 32, 32, 32,   512        ['conv3d_12[0][0]']              \n",
            " ormalization)                  128)                                                              \n",
            "                                                                                                  \n",
            " activation_12 (Activation)     (None, 32, 32, 32,   0           ['batch_normalization_12[0][0]'] \n",
            "                                128)                                                              \n",
            "                                                                                                  \n",
            " conv3d_13 (Conv3D)             (None, 32, 32, 32,   442496      ['activation_12[0][0]']          \n",
            "                                128)                                                              \n",
            "                                                                                                  \n",
            " batch_normalization_13 (BatchN  (None, 32, 32, 32,   512        ['conv3d_13[0][0]']              \n",
            " ormalization)                  128)                                                              \n",
            "                                                                                                  \n",
            " activation_13 (Activation)     (None, 32, 32, 32,   0           ['batch_normalization_13[0][0]'] \n",
            "                                128)                                                              \n",
            "                                                                                                  \n",
            " dropout_4 (Dropout)            (None, 32, 32, 32,   0           ['activation_13[0][0]']          \n",
            "                                128)                                                              \n",
            "                                                                                                  \n",
            " conv3d_transpose_2 (Conv3DTran  (None, 64, 64, 64,   221248     ['dropout_4[0][0]']              \n",
            " spose)                         64)                                                               \n",
            "                                                                                                  \n",
            " concatenate_2 (Concatenate)    (None, 64, 64, 64,   0           ['conv3d_transpose_2[0][0]',     \n",
            "                                128)                              'activation_3[0][0]']           \n",
            "                                                                                                  \n",
            " conv3d_14 (Conv3D)             (None, 64, 64, 64,   221248      ['concatenate_2[0][0]']          \n",
            "                                64)                                                               \n",
            "                                                                                                  \n",
            " batch_normalization_14 (BatchN  (None, 64, 64, 64,   256        ['conv3d_14[0][0]']              \n",
            " ormalization)                  64)                                                               \n",
            "                                                                                                  \n",
            " activation_14 (Activation)     (None, 64, 64, 64,   0           ['batch_normalization_14[0][0]'] \n",
            "                                64)                                                               \n",
            "                                                                                                  \n",
            " conv3d_15 (Conv3D)             (None, 64, 64, 64,   110656      ['activation_14[0][0]']          \n",
            "                                64)                                                               \n",
            "                                                                                                  \n",
            " batch_normalization_15 (BatchN  (None, 64, 64, 64,   256        ['conv3d_15[0][0]']              \n",
            " ormalization)                  64)                                                               \n",
            "                                                                                                  \n",
            " activation_15 (Activation)     (None, 64, 64, 64,   0           ['batch_normalization_15[0][0]'] \n",
            "                                64)                                                               \n",
            "                                                                                                  \n",
            " dropout_5 (Dropout)            (None, 64, 64, 64,   0           ['activation_15[0][0]']          \n",
            "                                64)                                                               \n",
            "                                                                                                  \n",
            " conv3d_16 (Conv3D)             (None, 64, 64, 64,   260         ['dropout_5[0][0]']              \n",
            "                                4)                                                                \n",
            "                                                                                                  \n",
            "==================================================================================================\n",
            "Total params: 25,679,044\n",
            "Trainable params: 25,673,412\n",
            "Non-trainable params: 5,632\n",
            "__________________________________________________________________________________________________\n"
          ]
        }
      ],
      "source": [
        "model = create_model(N=INPUT_SIZE, M=ENCODING_BLOCKS, F=NO_OF_FILTERS, verbose=1)"
      ]
    },
    {
      "cell_type": "markdown",
      "metadata": {
        "id": "mCTSEZXbyPkm"
      },
      "source": [
        "## Train model"
      ]
    },
    {
      "cell_type": "code",
      "source": [
        "history = tf.keras.callbacks.History()\n",
        "if IS_TRAINING_DONE:\n",
        "  model.load_weights(f'{ROOT_DIR}/model/{MODEL_KEY}/bts_unet.h5')\n",
        "else:\n",
        "  if CONTINUE_TRAINING:\n",
        "    model.load_weights(f'{ROOT_DIR}/model/{MODEL_KEY}/bts_unet.h5')\n",
        "  history = train_model(model, training_generator, validation_generator, verbose=1)"
      ],
      "metadata": {
        "id": "mEVNtzn-FdOa"
      },
      "execution_count": 22,
      "outputs": []
    },
    {
      "cell_type": "code",
      "source": [
        "# save history\n",
        "# with open(f'{ROOT_DIR}/model/{MODEL_KEY}/history.pkl', 'wb') as history_file:\n",
        "#   pickle.dump(history.history, history_file, pickle.HIGHEST_PROTOCOL)\n",
        "\n",
        "# load history\n",
        "with open(f'{ROOT_DIR}/model/{MODEL_KEY}/history.pkl', 'rb') as history_file:\n",
        "    history.history = pickle.load(history_file)"
      ],
      "metadata": {
        "id": "5wLGgC4OA4F9"
      },
      "execution_count": 39,
      "outputs": []
    },
    {
      "cell_type": "markdown",
      "source": [
        "## Plot training data"
      ],
      "metadata": {
        "id": "qMY1GAiRWLCh"
      }
    },
    {
      "cell_type": "code",
      "source": [
        "# print(\"-- Plotting the Graphs of Dice Loss on Training data --\")\n",
        "Loss_Graph(history)"
      ],
      "metadata": {
        "colab": {
          "base_uri": "https://localhost:8080/",
          "height": 366
        },
        "id": "yqnZi2ZyAtSn",
        "outputId": "2a6f1f89-70a3-4910-cbe1-c6a9521e87dd"
      },
      "execution_count": 45,
      "outputs": [
        {
          "output_type": "display_data",
          "data": {
            "text/plain": [
              "<Figure size 432x288 with 1 Axes>"
            ],
            "image/png": "[encoded data removed]"
          },
          "metadata": {
            "needs_background": "light"
          }
        }
      ]
    },
    {
      "cell_type": "markdown",
      "source": [
        "## Evaluate"
      ],
      "metadata": {
        "id": "hTTAuJUTL68f"
      }
    },
    {
      "cell_type": "code",
      "source": [
        "evaluate_model(model, testing_generator, verbose = 1)"
      ],
      "metadata": {
        "id": "AOzWXJuFSU7n",
        "colab": {
          "base_uri": "https://localhost:8080/"
        },
        "outputId": "4fb32a24-5746-487c-9bdb-1b9fa7550a60"
      },
      "execution_count": 33,
      "outputs": [
        {
          "output_type": "stream",
          "name": "stdout",
          "text": [
            "-- Evaluating the model on the data --\n",
            "38/38 [==============================] - 1376s 37s/step - loss: 0.3118 - dice_coef: 0.6882\n"
          ]
        }
      ]
    },
    {
      "cell_type": "markdown",
      "source": [
        "# Ensembling"
      ],
      "metadata": {
        "id": "vkeqxqGHxn69"
      }
    },
    {
      "cell_type": "code",
      "source": [
        "def ensemble_models(model, data_dir, weight_paths):\n",
        "    pred_scores = []\n",
        "\n",
        "    for record in os.listdir(data_dir):\n",
        "        scores = []\n",
        "        record_path = os.path.join(data_dir, record_path)\n",
        "        volumes = [nib.load(os.path.join(record_path, path)).get_fdata() for path in enumerate(os.listdir(record_path)) if 'seg' not in path]\n",
        "        data = np.expand_dims(np.concatenate(volumes, axis=-1), axis=0)\n",
        "\n",
        "        for path in weight_paths:\n",
        "            model.load_weights(path)\n",
        "            scores.append(model.predict(data))\n",
        "        scores = np.mean(scores, axis=0)\n",
        "        pred_scores.append(scores)\n",
        "        \n",
        "    return scores"
      ],
      "metadata": {
        "id": "o9enBtazxqQm"
      },
      "execution_count": 26,
      "outputs": []
    },
    {
      "cell_type": "markdown",
      "source": [
        "# Inference"
      ],
      "metadata": {
        "id": "X45VDkY1VZqZ"
      }
    },
    {
      "cell_type": "code",
      "source": [
        "result, score = inference(model, '00346')"
      ],
      "metadata": {
        "id": "_TIhsEWZeGod",
        "colab": {
          "base_uri": "https://localhost:8080/"
        },
        "outputId": "a0caeac1-e5a7-4cbe-c3c5-c255ce0237bb"
      },
      "execution_count": 27,
      "outputs": [
        {
          "output_type": "stream",
          "name": "stderr",
          "text": [
            "100%|██████████| 6/6 [00:18<00:00,  3.07s/it]\n",
            "100%|██████████| 6/6 [00:06<00:00,  1.10s/it]\n",
            "100%|██████████| 6/6 [00:06<00:00,  1.05s/it]\n"
          ]
        }
      ]
    },
    {
      "cell_type": "markdown",
      "source": [
        "## Visualize results"
      ],
      "metadata": {
        "id": "00YNEOAFqZNw"
      }
    },
    {
      "cell_type": "code",
      "source": [
        "def load_prediction(ID):\n",
        "    # load nifti file\n",
        "    file_path = f'{ROOT_DIR}/predictions_1/s_{ID}.nii'\n",
        "    nifti_file   = nib.load(file_path)\n",
        "\n",
        "    # extracting data & converting to numpy file\n",
        "    data_obj = np.asarray(nifti_file.dataobj)\n",
        "\n",
        "    return data_obj\n",
        "\n",
        "def load_data(ID, key):\n",
        "    # load nifti file\n",
        "    file_path = f'{ROOT_DIR}/data/BraTS2021_{ID}/BraTS2021_{ID}_{key}.nii'\n",
        "    nifti_file   = nib.load(file_path)\n",
        "\n",
        "    # extracting data & converting to numpy file\n",
        "    data_obj = np.asarray(nifti_file.dataobj)\n",
        "\n",
        "    return data_obj"
      ],
      "metadata": {
        "id": "OMQD095oewFb"
      },
      "execution_count": 28,
      "outputs": []
    },
    {
      "cell_type": "code",
      "source": [
        "def get_brain_data(ID):\n",
        "  X_data = np.array([load_data(ID, key) for key in PARAMS['channel_keys']])\n",
        "  y_true = load_data(ID, PARAMS['label_key'])\n",
        "  y_pred = load_prediction(ID)\n",
        "\n",
        "  X_data = np.moveaxis(X_data, 0, -1)\n",
        "  X_data = np.moveaxis(X_data, 0, 1)\n",
        "  y_true = np.moveaxis(y_true, 0, 1)\n",
        "  y_pred = np.moveaxis(y_pred, 0, 1)\n",
        "\n",
        "  y_true[y_true == 4] = 3\n",
        "  y_pred[y_pred == 4] = 3\n",
        "  \n",
        "  return X_data, y_true, y_pred"
      ],
      "metadata": {
        "id": "sXb_j3ZJr0hR"
      },
      "execution_count": 29,
      "outputs": []
    },
    {
      "cell_type": "code",
      "source": [
        "X_data, y_true, y_pred = get_brain_data('00346')"
      ],
      "metadata": {
        "id": "lFf5s01BsUoa"
      },
      "execution_count": 30,
      "outputs": []
    },
    {
      "cell_type": "code",
      "source": [
        "# Ground truth\n",
        "plot_segment_map(X_data, y_true)"
      ],
      "metadata": {
        "colab": {
          "base_uri": "https://localhost:8080/",
          "height": 374
        },
        "id": "xH8TUqIOVkZw",
        "outputId": "2cab99b1-a5d9-407f-e6e2-237c650c5fd4"
      },
      "execution_count": 31,
      "outputs": [
        {
          "output_type": "stream",
          "name": "stdout",
          "text": [
            "labels of segmentation: [0 1 2 3]\n"
          ]
        },
        {
          "output_type": "display_data",
          "data": {
            "text/plain": [
              "<Figure size 432x432 with 1 Axes>"
            ],
            "image/png": "[encoded data removed]"
          },
          "metadata": {
            "needs_background": "light"
          }
        }
      ]
    },
    {
      "cell_type": "code",
      "source": [
        "# Prediction\n",
        "plot_segment_map(X_data, y_pred)"
      ],
      "metadata": {
        "colab": {
          "base_uri": "https://localhost:8080/",
          "height": 374
        },
        "id": "zyOuzxd2t-4s",
        "outputId": "df3adc15-2a04-4535-a031-4927ec322616"
      },
      "execution_count": 32,
      "outputs": [
        {
          "output_type": "stream",
          "name": "stdout",
          "text": [
            "labels of segmentation: [0 1 2 3]\n"
          ]
        },
        {
          "output_type": "display_data",
          "data": {
            "text/plain": [
              "<Figure size 432x432 with 1 Axes>"
            ],
            "image/png": "[encoded data removed]"
          },
          "metadata": {
            "needs_background": "light"
          }
        }
      ]
    },
    {
      "cell_type": "markdown",
      "source": [
        "## Scores"
      ],
      "metadata": {
        "id": "U_qj3rPz-RmB"
      }
    },
    {
      "cell_type": "code",
      "source": [
        "def change_mask_format(label_data):\n",
        "  '''\n",
        "   \"enhancing tumor\" (ET), the \"tumor core\" (TC=ET+NCR), and the \"whole tumor\" (WT=TC+ED).\n",
        "    1 = NCR\n",
        "    2 = ED (largest)\n",
        "    4 = ET (smallest)\n",
        "    0 = everything else\n",
        "  '''\n",
        "  label_data[label_data==4] = 3\n",
        "  onehot_data = keras.utils.to_categorical(label_data, num_classes=PARAMS['n_classes'])\n",
        "  ncr = onehot_data[:, :, :, 1]\n",
        "  ed = onehot_data[:, :, :, 2]\n",
        "\n",
        "  et = onehot_data[:, :, :, 3]\n",
        "  tc = et+ncr\n",
        "  wt = tc+ed\n",
        "  return et, tc, wt"
      ],
      "metadata": {
        "id": "3SWcu6LUKUeF"
      },
      "execution_count": null,
      "outputs": []
    },
    {
      "cell_type": "code",
      "source": [
        "et_pred, tc_pred, wt_pred = change_mask_format(y_pred)\n",
        "et_true, tc_true, wt_true = change_mask_format(y_true)"
      ],
      "metadata": {
        "id": "jT_-9bpKLse1"
      },
      "execution_count": null,
      "outputs": []
    },
    {
      "cell_type": "code",
      "source": [
        "dice_coef_direct(tc_pred, tc_true)"
      ],
      "metadata": {
        "colab": {
          "base_uri": "https://localhost:8080/"
        },
        "id": "38Mis33nMzKV",
        "outputId": "41fa84c5-2a4a-4683-96bc-1ca9bfa35c5f"
      },
      "execution_count": null,
      "outputs": [
        {
          "output_type": "execute_result",
          "data": {
            "text/plain": [
              "<tf.Tensor: shape=(), dtype=float32, numpy=0.9527085>"
            ]
          },
          "metadata": {},
          "execution_count": 60
        }
      ]
    },
    {
      "cell_type": "code",
      "source": [
        "hausdorff_distance(tc_pred, tc_true)"
      ],
      "metadata": {
        "colab": {
          "base_uri": "https://localhost:8080/"
        },
        "id": "9wfcWg__NaTG",
        "outputId": "dfb6b690-bb6a-4b93-d567-d980e75dceec"
      },
      "execution_count": null,
      "outputs": [
        {
          "output_type": "execute_result",
          "data": {
            "text/plain": [
              "25.495097567963924"
            ]
          },
          "metadata": {},
          "execution_count": 59
        }
      ]
    }
  ],
  "metadata": {
    "colab": {
      "provenance": [],
      "collapsed_sections": [
        "GdawvcsQ-DyZ",
        "9Zt2OJyO-GAx",
        "bCU7SCWy4q1W",
        "Xc-g-kreFI4h",
        "OEJ6UmEk5j1Y",
        "-t-s92tn5mkA",
        "5Pi09W9OXA3U",
        "uaEyPrQDiEty",
        "KxzqfbFGCSVn",
        "Ruwp2KMY6NDj",
        "a_3CUy2U6IUI",
        "iC3Rm4_-XFwP",
        "WSxVQrQxXIvS",
        "99VYIcgo9lJz",
        "5sfXQNftMQmH",
        "2WND1aH5QNAP",
        "NlSAT2-AyL6i",
        "qMY1GAiRWLCh",
        "hTTAuJUTL68f",
        "X45VDkY1VZqZ",
        "w9pQDBnLgP5v",
        "8y1T5s-A0NZq"
      ],
      "toc_visible": true
    },
    "gpuClass": "standard",
    "kernelspec": {
      "display_name": "Python 3",
      "name": "python3"
    },
    "language_info": {
      "name": "python"
    },
    "accelerator": "GPU"
  },
  "nbformat": 4,
  "nbformat_minor": 0
}